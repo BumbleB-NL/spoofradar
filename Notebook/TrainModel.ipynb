{
 "cells": [
  {
   "cell_type": "markdown",
   "id": "100c4a65-108e-4a93-aa0f-82a227ad0fe2",
   "metadata": {},
   "source": [
    "# Convolutional Neural Network Model for Detecting Spoofed Aircraft\n",
    "### Purpose: This notebook creates a Convolutional Neural Network capable of detecting spoofed aircraft. It was trained using a training data set of pre-generated spoofed aircraft alongside a dataset of valid ADS-B records. It outputs a binary classification (spoofed or not) for a plane alongside confidence level. "
   ]
  },
  {
   "cell_type": "code",
   "execution_count": 1,
   "id": "2ba366af-a0d0-49f8-9339-12300e70e77a",
   "metadata": {},
   "outputs": [
    {
     "name": "stdout",
     "output_type": "stream",
     "text": [
      "{'hex': '845f9f', 'type': 'adsc', 'flight': 'KZ51    ', 'r': 'JA11KZ', 't': 'B748', 'alt_baro': 31996, 'gs': 487.0, 'track': 244.0, 'baro_rate': 48, 'lat': 57.32872, 'lon': -177.562752, 'nic': 0, 'rc': 0, 'seen_pos': 873.399, 'mlat': [], 'tisb': [], 'messages': 4420465, 'seen': 803.5, 'rssi': -29.2}\n",
      "Valid count:  8423\n",
      "Datasets imported!\n"
     ]
    }
   ],
   "source": [
    "import json \n",
    "import numpy as np\n",
    "import tensorflow as tf\n",
    "from sklearn.model_selection import train_test_split\n",
    "from sklearn.preprocessing import StandardScaler\n",
    "\n",
    "# Valid data parsing first\n",
    "with open('./samples/valid/aircraft_valid.json') as json_file:\n",
    "    data_valid = json.load(json_file)\n",
    "print(data_valid['aircraft'][0])\n",
    "print(\"Valid count: \", len(data_valid['aircraft']))\n",
    "# Parse spoofed data\n",
    "with open('./samples/spoofed/aircraft_spoofed_large.json') as json_file:\n",
    "    data_spoofed = json.load(json_file)\n",
    "    \n",
    "aircraft_data_valid = data_valid['aircraft']\n",
    "aircraft_data_spoofed = data_spoofed['aircraft']\n",
    "\n",
    "print(\"Datasets imported!\")"
   ]
  },
  {
   "cell_type": "markdown",
   "id": "8b2beafe-d007-40eb-9427-f903e02dd849",
   "metadata": {},
   "source": [
    "# Process JSON Files Containing Data"
   ]
  },
  {
   "cell_type": "raw",
   "id": "dbef6f7a-9070-4ccf-a8f1-5a111e7fc0be",
   "metadata": {},
   "source": [
    "# Prepare Dataset to be Placed into Neural Network\n",
    "### Split into Training and Testing Sets"
   ]
  },
  {
   "cell_type": "code",
   "execution_count": 2,
   "id": "d22f63f4-1119-49b6-ba2c-214c94315343",
   "metadata": {},
   "outputs": [
    {
     "data": {
      "text/html": [
       "<pre style=\"white-space:pre;overflow-x:auto;line-height:normal;font-family:Menlo,'DejaVu Sans Mono',consolas,'Courier New',monospace\"><span style=\"font-weight: bold\">Model: \"sequential\"</span>\n",
       "</pre>\n"
      ],
      "text/plain": [
       "\u001b[1mModel: \"sequential\"\u001b[0m\n"
      ]
     },
     "metadata": {},
     "output_type": "display_data"
    },
    {
     "data": {
      "text/html": [
       "<pre style=\"white-space:pre;overflow-x:auto;line-height:normal;font-family:Menlo,'DejaVu Sans Mono',consolas,'Courier New',monospace\">┏━━━━━━━━━━━━━━━━━━━━━━━━━━━━━━━━━┳━━━━━━━━━━━━━━━━━━━━━━━━┳━━━━━━━━━━━━━━━┓\n",
       "┃<span style=\"font-weight: bold\"> Layer (type)                    </span>┃<span style=\"font-weight: bold\"> Output Shape           </span>┃<span style=\"font-weight: bold\">       Param # </span>┃\n",
       "┡━━━━━━━━━━━━━━━━━━━━━━━━━━━━━━━━━╇━━━━━━━━━━━━━━━━━━━━━━━━╇━━━━━━━━━━━━━━━┩\n",
       "│ dense (<span style=\"color: #0087ff; text-decoration-color: #0087ff\">Dense</span>)                   │ (<span style=\"color: #00d7ff; text-decoration-color: #00d7ff\">None</span>, <span style=\"color: #00af00; text-decoration-color: #00af00\">64</span>)             │           <span style=\"color: #00af00; text-decoration-color: #00af00\">704</span> │\n",
       "├─────────────────────────────────┼────────────────────────┼───────────────┤\n",
       "│ batch_normalization             │ (<span style=\"color: #00d7ff; text-decoration-color: #00d7ff\">None</span>, <span style=\"color: #00af00; text-decoration-color: #00af00\">64</span>)             │           <span style=\"color: #00af00; text-decoration-color: #00af00\">256</span> │\n",
       "│ (<span style=\"color: #0087ff; text-decoration-color: #0087ff\">BatchNormalization</span>)            │                        │               │\n",
       "├─────────────────────────────────┼────────────────────────┼───────────────┤\n",
       "│ dropout (<span style=\"color: #0087ff; text-decoration-color: #0087ff\">Dropout</span>)               │ (<span style=\"color: #00d7ff; text-decoration-color: #00d7ff\">None</span>, <span style=\"color: #00af00; text-decoration-color: #00af00\">64</span>)             │             <span style=\"color: #00af00; text-decoration-color: #00af00\">0</span> │\n",
       "├─────────────────────────────────┼────────────────────────┼───────────────┤\n",
       "│ dense_1 (<span style=\"color: #0087ff; text-decoration-color: #0087ff\">Dense</span>)                 │ (<span style=\"color: #00d7ff; text-decoration-color: #00d7ff\">None</span>, <span style=\"color: #00af00; text-decoration-color: #00af00\">32</span>)             │         <span style=\"color: #00af00; text-decoration-color: #00af00\">2,080</span> │\n",
       "├─────────────────────────────────┼────────────────────────┼───────────────┤\n",
       "│ batch_normalization_1           │ (<span style=\"color: #00d7ff; text-decoration-color: #00d7ff\">None</span>, <span style=\"color: #00af00; text-decoration-color: #00af00\">32</span>)             │           <span style=\"color: #00af00; text-decoration-color: #00af00\">128</span> │\n",
       "│ (<span style=\"color: #0087ff; text-decoration-color: #0087ff\">BatchNormalization</span>)            │                        │               │\n",
       "├─────────────────────────────────┼────────────────────────┼───────────────┤\n",
       "│ dropout_1 (<span style=\"color: #0087ff; text-decoration-color: #0087ff\">Dropout</span>)             │ (<span style=\"color: #00d7ff; text-decoration-color: #00d7ff\">None</span>, <span style=\"color: #00af00; text-decoration-color: #00af00\">32</span>)             │             <span style=\"color: #00af00; text-decoration-color: #00af00\">0</span> │\n",
       "├─────────────────────────────────┼────────────────────────┼───────────────┤\n",
       "│ dense_2 (<span style=\"color: #0087ff; text-decoration-color: #0087ff\">Dense</span>)                 │ (<span style=\"color: #00d7ff; text-decoration-color: #00d7ff\">None</span>, <span style=\"color: #00af00; text-decoration-color: #00af00\">1</span>)              │            <span style=\"color: #00af00; text-decoration-color: #00af00\">33</span> │\n",
       "└─────────────────────────────────┴────────────────────────┴───────────────┘\n",
       "</pre>\n"
      ],
      "text/plain": [
       "┏━━━━━━━━━━━━━━━━━━━━━━━━━━━━━━━━━┳━━━━━━━━━━━━━━━━━━━━━━━━┳━━━━━━━━━━━━━━━┓\n",
       "┃\u001b[1m \u001b[0m\u001b[1mLayer (type)                   \u001b[0m\u001b[1m \u001b[0m┃\u001b[1m \u001b[0m\u001b[1mOutput Shape          \u001b[0m\u001b[1m \u001b[0m┃\u001b[1m \u001b[0m\u001b[1m      Param #\u001b[0m\u001b[1m \u001b[0m┃\n",
       "┡━━━━━━━━━━━━━━━━━━━━━━━━━━━━━━━━━╇━━━━━━━━━━━━━━━━━━━━━━━━╇━━━━━━━━━━━━━━━┩\n",
       "│ dense (\u001b[38;5;33mDense\u001b[0m)                   │ (\u001b[38;5;45mNone\u001b[0m, \u001b[38;5;34m64\u001b[0m)             │           \u001b[38;5;34m704\u001b[0m │\n",
       "├─────────────────────────────────┼────────────────────────┼───────────────┤\n",
       "│ batch_normalization             │ (\u001b[38;5;45mNone\u001b[0m, \u001b[38;5;34m64\u001b[0m)             │           \u001b[38;5;34m256\u001b[0m │\n",
       "│ (\u001b[38;5;33mBatchNormalization\u001b[0m)            │                        │               │\n",
       "├─────────────────────────────────┼────────────────────────┼───────────────┤\n",
       "│ dropout (\u001b[38;5;33mDropout\u001b[0m)               │ (\u001b[38;5;45mNone\u001b[0m, \u001b[38;5;34m64\u001b[0m)             │             \u001b[38;5;34m0\u001b[0m │\n",
       "├─────────────────────────────────┼────────────────────────┼───────────────┤\n",
       "│ dense_1 (\u001b[38;5;33mDense\u001b[0m)                 │ (\u001b[38;5;45mNone\u001b[0m, \u001b[38;5;34m32\u001b[0m)             │         \u001b[38;5;34m2,080\u001b[0m │\n",
       "├─────────────────────────────────┼────────────────────────┼───────────────┤\n",
       "│ batch_normalization_1           │ (\u001b[38;5;45mNone\u001b[0m, \u001b[38;5;34m32\u001b[0m)             │           \u001b[38;5;34m128\u001b[0m │\n",
       "│ (\u001b[38;5;33mBatchNormalization\u001b[0m)            │                        │               │\n",
       "├─────────────────────────────────┼────────────────────────┼───────────────┤\n",
       "│ dropout_1 (\u001b[38;5;33mDropout\u001b[0m)             │ (\u001b[38;5;45mNone\u001b[0m, \u001b[38;5;34m32\u001b[0m)             │             \u001b[38;5;34m0\u001b[0m │\n",
       "├─────────────────────────────────┼────────────────────────┼───────────────┤\n",
       "│ dense_2 (\u001b[38;5;33mDense\u001b[0m)                 │ (\u001b[38;5;45mNone\u001b[0m, \u001b[38;5;34m1\u001b[0m)              │            \u001b[38;5;34m33\u001b[0m │\n",
       "└─────────────────────────────────┴────────────────────────┴───────────────┘\n"
      ]
     },
     "metadata": {},
     "output_type": "display_data"
    },
    {
     "data": {
      "text/html": [
       "<pre style=\"white-space:pre;overflow-x:auto;line-height:normal;font-family:Menlo,'DejaVu Sans Mono',consolas,'Courier New',monospace\"><span style=\"font-weight: bold\"> Total params: </span><span style=\"color: #00af00; text-decoration-color: #00af00\">3,201</span> (12.50 KB)\n",
       "</pre>\n"
      ],
      "text/plain": [
       "\u001b[1m Total params: \u001b[0m\u001b[38;5;34m3,201\u001b[0m (12.50 KB)\n"
      ]
     },
     "metadata": {},
     "output_type": "display_data"
    },
    {
     "data": {
      "text/html": [
       "<pre style=\"white-space:pre;overflow-x:auto;line-height:normal;font-family:Menlo,'DejaVu Sans Mono',consolas,'Courier New',monospace\"><span style=\"font-weight: bold\"> Trainable params: </span><span style=\"color: #00af00; text-decoration-color: #00af00\">3,009</span> (11.75 KB)\n",
       "</pre>\n"
      ],
      "text/plain": [
       "\u001b[1m Trainable params: \u001b[0m\u001b[38;5;34m3,009\u001b[0m (11.75 KB)\n"
      ]
     },
     "metadata": {},
     "output_type": "display_data"
    },
    {
     "data": {
      "text/html": [
       "<pre style=\"white-space:pre;overflow-x:auto;line-height:normal;font-family:Menlo,'DejaVu Sans Mono',consolas,'Courier New',monospace\"><span style=\"font-weight: bold\"> Non-trainable params: </span><span style=\"color: #00af00; text-decoration-color: #00af00\">192</span> (768.00 B)\n",
       "</pre>\n"
      ],
      "text/plain": [
       "\u001b[1m Non-trainable params: \u001b[0m\u001b[38;5;34m192\u001b[0m (768.00 B)\n"
      ]
     },
     "metadata": {},
     "output_type": "display_data"
    }
   ],
   "source": [
    "# Define a function to preprocess the data\n",
    "def preprocess_data(data):\n",
    "    features = []\n",
    "    labels = []\n",
    "\n",
    "    for aircraft in data:\n",
    "        try:\n",
    "            feature_vector = [\n",
    "                #alt_baro maybe float?\n",
    "                handle_alt_baro(aircraft.get('alt_baro', 0)),\n",
    "                float(aircraft.get('gs', 0)),\n",
    "                float(aircraft.get('track', 0)),\n",
    "                float(aircraft.get('baro_rate', 0)),\n",
    "                float(aircraft.get('lat', 0)),\n",
    "                float(aircraft.get('lon', 0)),\n",
    "                float(aircraft.get('seen_pos', 0)),\n",
    "                float(aircraft.get('messages', 0)),\n",
    "                float(aircraft.get('seen', 0)),\n",
    "                float(aircraft.get('rssi', 0)),\n",
    "            ]\n",
    "            features.append(feature_vector)\n",
    "            labels.append(1 if aircraft.get('is_spoofed', False) else 0)\n",
    "        except ValueError as e:\n",
    "            # Handle the case where a non-numeric value is encountered\n",
    "            print(f\"Ignoring data point due to non-numeric value: {aircraft}, Field {e}\")\n",
    "\n",
    "    #return np.array(features), np.array(labels)\n",
    "    features = np.array(features)\n",
    "    labels = np.array(labels)\n",
    "\n",
    "    # # Scale features\n",
    "    scaler = StandardScaler()\n",
    "    features = scaler.fit_transform(features)\n",
    "\n",
    "    return features, labels\n",
    "\n",
    "def handle_alt_baro(alt_baro):\n",
    "    if alt_baro == \"ground\":\n",
    "        return 0.0\n",
    "    else:\n",
    "        return alt_baro\n",
    "    \n",
    "model = tf.keras.Sequential([\n",
    "    tf.keras.layers.Input(shape=(10,)),  # Define input shape explicitly\n",
    "    \n",
    "    tf.keras.layers.Dense(64, activation='relu'),\n",
    "    tf.keras.layers.BatchNormalization(),\n",
    "    tf.keras.layers.Dropout(0.3),\n",
    "    \n",
    "    tf.keras.layers.Dense(32, activation='relu'),\n",
    "    tf.keras.layers.BatchNormalization(),\n",
    "    tf.keras.layers.Dropout(0.3),\n",
    "    \n",
    "    tf.keras.layers.Dense(1, activation='linear')\n",
    "])\n",
    "\n",
    "# model = tf.keras.Sequential([\n",
    "    # tf.keras.layers.Input(shape=(10,)),\n",
    "    # # tf.keras.layers.Conv2D(32, kernel_size=(3,3), activation='relu'),\n",
    "    # # tf.keras.layers.MaxPooling2D(pool_size=(2,2)),\n",
    "    # # tf.keras.layers.Conv2D(64, kernel_size=(3,3), activation='relu'),\n",
    "    # # tf.keras.layers.MaxPooling2D(pool_size=(2,2)),\n",
    "    # # tf.keras.layers.Flatten(),\n",
    "    # tf.keras.layers.Dense(64, activation='relu'),\n",
    "    # tf.keras.layers.Dropout(0.5),\n",
    "    # tf.keras.layers.Dense(32, activation='relu'),\n",
    "    # tf.keras.layers.Dense(1, activation='sigmoid')\n",
    "# ])\n",
    "# model.Compile(loss='categorical_crossentropy', optimizer='adam', metrics=['accuracy'])\n",
    "# model.summary()\n",
    "\n",
    "# Compile the model\n",
    "optimizer = tf.keras.optimizers.Adam(learning_rate=0.001)\n",
    "model.compile(optimizer=optimizer, loss='binary_crossentropy', metrics=['accuracy'])\n",
    "model.summary()"
   ]
  },
  {
   "cell_type": "code",
   "execution_count": 3,
   "id": "618907a0-3aa6-4412-a0ea-5dd3bf94b063",
   "metadata": {},
   "outputs": [
    {
     "name": "stdout",
     "output_type": "stream",
     "text": [
      "[[ 1.21698152  0.12338133  0.30270961 ...  1.3314093   0.79770954\n",
      "   1.07453948]\n",
      " [ 0.41029097  0.62593615  0.55088812 ...  0.39182697 -1.23409194\n",
      "  -0.62562485]\n",
      " [-1.15802799  1.48547818 -1.42499466 ... -1.5802634   0.72848291\n",
      "   0.23125797]\n",
      " ...\n",
      " [-1.10993969 -1.32685152 -1.21581286 ... -1.17306362  0.07194092\n",
      "  -1.81647978]\n",
      " [-1.10993969 -1.32685152 -1.21581286 ... -0.10443824  0.02871073\n",
      "   0.06106721]\n",
      " [-1.10993969 -1.32685152 -1.21581286 ...  0.62940328 -0.11199928\n",
      "   1.19022134]] [1 1 1 ... 0 0 0]\n"
     ]
    }
   ],
   "source": [
    "spoofed_features, spoofed_labels = preprocess_data(aircraft_data_spoofed)\n",
    "not_spoofed_features, not_spoofed_labels = preprocess_data(aircraft_data_valid)\n",
    "\n",
    "# Combine the data\n",
    "all_features = np.vstack([spoofed_features, not_spoofed_features])\n",
    "all_labels = np.concatenate([spoofed_labels, not_spoofed_labels])\n",
    "\n",
    "print(all_features, all_labels)"
   ]
  },
  {
   "cell_type": "code",
   "execution_count": 4,
   "id": "f3913f2a-4f57-4729-a606-9dc52f583262",
   "metadata": {},
   "outputs": [
    {
     "name": "stdout",
     "output_type": "stream",
     "text": [
      "Epoch 1/35\n",
      "\u001b[1m337/337\u001b[0m \u001b[32m━━━━━━━━━━━━━━━━━━━━\u001b[0m\u001b[37m\u001b[0m \u001b[1m2s\u001b[0m 1ms/step - accuracy: 0.5515 - loss: 5.6210 - val_accuracy: 0.6530 - val_loss: 3.9843\n",
      "Epoch 2/35\n",
      "\u001b[1m337/337\u001b[0m \u001b[32m━━━━━━━━━━━━━━━━━━━━\u001b[0m\u001b[37m\u001b[0m \u001b[1m0s\u001b[0m 1ms/step - accuracy: 0.6235 - loss: 4.5733 - val_accuracy: 0.6816 - val_loss: 3.3897\n",
      "Epoch 3/35\n",
      "\u001b[1m337/337\u001b[0m \u001b[32m━━━━━━━━━━━━━━━━━━━━\u001b[0m\u001b[37m\u001b[0m \u001b[1m0s\u001b[0m 1ms/step - accuracy: 0.6301 - loss: 4.5814 - val_accuracy: 0.6683 - val_loss: 3.7816\n",
      "Epoch 4/35\n",
      "\u001b[1m337/337\u001b[0m \u001b[32m━━━━━━━━━━━━━━━━━━━━\u001b[0m\u001b[37m\u001b[0m \u001b[1m0s\u001b[0m 1ms/step - accuracy: 0.6437 - loss: 4.4080 - val_accuracy: 0.6764 - val_loss: 3.6723\n",
      "Epoch 5/35\n",
      "\u001b[1m337/337\u001b[0m \u001b[32m━━━━━━━━━━━━━━━━━━━━\u001b[0m\u001b[37m\u001b[0m \u001b[1m0s\u001b[0m 961us/step - accuracy: 0.6486 - loss: 4.2567 - val_accuracy: 0.7273 - val_loss: 2.8838\n",
      "Epoch 6/35\n",
      "\u001b[1m337/337\u001b[0m \u001b[32m━━━━━━━━━━━━━━━━━━━━\u001b[0m\u001b[37m\u001b[0m \u001b[1m0s\u001b[0m 943us/step - accuracy: 0.6722 - loss: 3.8336 - val_accuracy: 0.7645 - val_loss: 2.6691\n",
      "Epoch 7/35\n",
      "\u001b[1m337/337\u001b[0m \u001b[32m━━━━━━━━━━━━━━━━━━━━\u001b[0m\u001b[37m\u001b[0m \u001b[1m0s\u001b[0m 946us/step - accuracy: 0.6962 - loss: 3.4410 - val_accuracy: 0.7842 - val_loss: 2.3681\n",
      "Epoch 8/35\n",
      "\u001b[1m337/337\u001b[0m \u001b[32m━━━━━━━━━━━━━━━━━━━━\u001b[0m\u001b[37m\u001b[0m \u001b[1m0s\u001b[0m 1ms/step - accuracy: 0.7124 - loss: 3.4074 - val_accuracy: 0.7983 - val_loss: 2.1264\n",
      "Epoch 9/35\n",
      "\u001b[1m337/337\u001b[0m \u001b[32m━━━━━━━━━━━━━━━━━━━━\u001b[0m\u001b[37m\u001b[0m \u001b[1m0s\u001b[0m 920us/step - accuracy: 0.7204 - loss: 3.3440 - val_accuracy: 0.8109 - val_loss: 2.0635\n",
      "Epoch 10/35\n",
      "\u001b[1m337/337\u001b[0m \u001b[32m━━━━━━━━━━━━━━━━━━━━\u001b[0m\u001b[37m\u001b[0m \u001b[1m0s\u001b[0m 988us/step - accuracy: 0.7323 - loss: 3.1487 - val_accuracy: 0.8009 - val_loss: 2.1526\n",
      "Epoch 11/35\n",
      "\u001b[1m337/337\u001b[0m \u001b[32m━━━━━━━━━━━━━━━━━━━━\u001b[0m\u001b[37m\u001b[0m \u001b[1m0s\u001b[0m 988us/step - accuracy: 0.7473 - loss: 2.9360 - val_accuracy: 0.8053 - val_loss: 1.9333\n",
      "Epoch 12/35\n",
      "\u001b[1m337/337\u001b[0m \u001b[32m━━━━━━━━━━━━━━━━━━━━\u001b[0m\u001b[37m\u001b[0m \u001b[1m0s\u001b[0m 949us/step - accuracy: 0.7463 - loss: 2.9645 - val_accuracy: 0.8109 - val_loss: 1.8886\n",
      "Epoch 13/35\n",
      "\u001b[1m337/337\u001b[0m \u001b[32m━━━━━━━━━━━━━━━━━━━━\u001b[0m\u001b[37m\u001b[0m \u001b[1m0s\u001b[0m 911us/step - accuracy: 0.7618 - loss: 2.7624 - val_accuracy: 0.8273 - val_loss: 1.7679\n",
      "Epoch 14/35\n",
      "\u001b[1m337/337\u001b[0m \u001b[32m━━━━━━━━━━━━━━━━━━━━\u001b[0m\u001b[37m\u001b[0m \u001b[1m0s\u001b[0m 929us/step - accuracy: 0.7670 - loss: 2.6638 - val_accuracy: 0.8254 - val_loss: 1.7605\n",
      "Epoch 15/35\n",
      "\u001b[1m337/337\u001b[0m \u001b[32m━━━━━━━━━━━━━━━━━━━━\u001b[0m\u001b[37m\u001b[0m \u001b[1m0s\u001b[0m 905us/step - accuracy: 0.7612 - loss: 2.7739 - val_accuracy: 0.8091 - val_loss: 2.0222\n",
      "Epoch 16/35\n",
      "\u001b[1m337/337\u001b[0m \u001b[32m━━━━━━━━━━━━━━━━━━━━\u001b[0m\u001b[37m\u001b[0m \u001b[1m0s\u001b[0m 994us/step - accuracy: 0.7734 - loss: 2.7257 - val_accuracy: 0.8377 - val_loss: 1.7584\n",
      "Epoch 17/35\n",
      "\u001b[1m337/337\u001b[0m \u001b[32m━━━━━━━━━━━━━━━━━━━━\u001b[0m\u001b[37m\u001b[0m \u001b[1m0s\u001b[0m 929us/step - accuracy: 0.7837 - loss: 2.5766 - val_accuracy: 0.8559 - val_loss: 1.5771\n",
      "Epoch 18/35\n",
      "\u001b[1m337/337\u001b[0m \u001b[32m━━━━━━━━━━━━━━━━━━━━\u001b[0m\u001b[37m\u001b[0m \u001b[1m0s\u001b[0m 949us/step - accuracy: 0.7951 - loss: 2.3543 - val_accuracy: 0.8570 - val_loss: 1.5643\n",
      "Epoch 19/35\n",
      "\u001b[1m337/337\u001b[0m \u001b[32m━━━━━━━━━━━━━━━━━━━━\u001b[0m\u001b[37m\u001b[0m \u001b[1m0s\u001b[0m 946us/step - accuracy: 0.8006 - loss: 2.2833 - val_accuracy: 0.8704 - val_loss: 1.3556\n",
      "Epoch 20/35\n",
      "\u001b[1m337/337\u001b[0m \u001b[32m━━━━━━━━━━━━━━━━━━━━\u001b[0m\u001b[37m\u001b[0m \u001b[1m0s\u001b[0m 994us/step - accuracy: 0.8121 - loss: 2.1401 - val_accuracy: 0.8785 - val_loss: 1.3132\n",
      "Epoch 21/35\n",
      "\u001b[1m337/337\u001b[0m \u001b[32m━━━━━━━━━━━━━━━━━━━━\u001b[0m\u001b[37m\u001b[0m \u001b[1m0s\u001b[0m 951us/step - accuracy: 0.8191 - loss: 2.0199 - val_accuracy: 0.8633 - val_loss: 1.4739\n",
      "Epoch 22/35\n",
      "\u001b[1m337/337\u001b[0m \u001b[32m━━━━━━━━━━━━━━━━━━━━\u001b[0m\u001b[37m\u001b[0m \u001b[1m0s\u001b[0m 961us/step - accuracy: 0.8150 - loss: 2.1171 - val_accuracy: 0.8696 - val_loss: 1.4900\n",
      "Epoch 23/35\n",
      "\u001b[1m337/337\u001b[0m \u001b[32m━━━━━━━━━━━━━━━━━━━━\u001b[0m\u001b[37m\u001b[0m \u001b[1m0s\u001b[0m 975us/step - accuracy: 0.8209 - loss: 1.9710 - val_accuracy: 0.8730 - val_loss: 1.4654\n",
      "Epoch 24/35\n",
      "\u001b[1m337/337\u001b[0m \u001b[32m━━━━━━━━━━━━━━━━━━━━\u001b[0m\u001b[37m\u001b[0m \u001b[1m0s\u001b[0m 985us/step - accuracy: 0.8232 - loss: 2.0691 - val_accuracy: 0.8834 - val_loss: 1.2789\n",
      "Epoch 25/35\n",
      "\u001b[1m337/337\u001b[0m \u001b[32m━━━━━━━━━━━━━━━━━━━━\u001b[0m\u001b[37m\u001b[0m \u001b[1m0s\u001b[0m 943us/step - accuracy: 0.8344 - loss: 1.9570 - val_accuracy: 0.8904 - val_loss: 1.2326\n",
      "Epoch 26/35\n",
      "\u001b[1m337/337\u001b[0m \u001b[32m━━━━━━━━━━━━━━━━━━━━\u001b[0m\u001b[37m\u001b[0m \u001b[1m0s\u001b[0m 961us/step - accuracy: 0.8436 - loss: 1.7892 - val_accuracy: 0.9045 - val_loss: 1.0404\n",
      "Epoch 27/35\n",
      "\u001b[1m337/337\u001b[0m \u001b[32m━━━━━━━━━━━━━━━━━━━━\u001b[0m\u001b[37m\u001b[0m \u001b[1m0s\u001b[0m 958us/step - accuracy: 0.8599 - loss: 1.5665 - val_accuracy: 0.9071 - val_loss: 0.9700\n",
      "Epoch 28/35\n",
      "\u001b[1m337/337\u001b[0m \u001b[32m━━━━━━━━━━━━━━━━━━━━\u001b[0m\u001b[37m\u001b[0m \u001b[1m0s\u001b[0m 935us/step - accuracy: 0.8520 - loss: 1.5842 - val_accuracy: 0.8964 - val_loss: 1.1723\n",
      "Epoch 29/35\n",
      "\u001b[1m337/337\u001b[0m \u001b[32m━━━━━━━━━━━━━━━━━━━━\u001b[0m\u001b[37m\u001b[0m \u001b[1m0s\u001b[0m 947us/step - accuracy: 0.8604 - loss: 1.5841 - val_accuracy: 0.8982 - val_loss: 1.1113\n",
      "Epoch 30/35\n",
      "\u001b[1m337/337\u001b[0m \u001b[32m━━━━━━━━━━━━━━━━━━━━\u001b[0m\u001b[37m\u001b[0m \u001b[1m0s\u001b[0m 950us/step - accuracy: 0.8605 - loss: 1.5172 - val_accuracy: 0.9172 - val_loss: 0.8861\n",
      "Epoch 31/35\n",
      "\u001b[1m337/337\u001b[0m \u001b[32m━━━━━━━━━━━━━━━━━━━━\u001b[0m\u001b[37m\u001b[0m \u001b[1m0s\u001b[0m 952us/step - accuracy: 0.8776 - loss: 1.3362 - val_accuracy: 0.9231 - val_loss: 0.8551\n",
      "Epoch 32/35\n",
      "\u001b[1m337/337\u001b[0m \u001b[32m━━━━━━━━━━━━━━━━━━━━\u001b[0m\u001b[37m\u001b[0m \u001b[1m0s\u001b[0m 946us/step - accuracy: 0.8883 - loss: 1.1837 - val_accuracy: 0.9305 - val_loss: 0.8059\n",
      "Epoch 33/35\n",
      "\u001b[1m337/337\u001b[0m \u001b[32m━━━━━━━━━━━━━━━━━━━━\u001b[0m\u001b[37m\u001b[0m \u001b[1m0s\u001b[0m 997us/step - accuracy: 0.8915 - loss: 1.1471 - val_accuracy: 0.9157 - val_loss: 0.9499\n",
      "Epoch 34/35\n",
      "\u001b[1m337/337\u001b[0m \u001b[32m━━━━━━━━━━━━━━━━━━━━\u001b[0m\u001b[37m\u001b[0m \u001b[1m0s\u001b[0m 1ms/step - accuracy: 0.8834 - loss: 1.2116 - val_accuracy: 0.9305 - val_loss: 0.7796\n",
      "Epoch 35/35\n",
      "\u001b[1m337/337\u001b[0m \u001b[32m━━━━━━━━━━━━━━━━━━━━\u001b[0m\u001b[37m\u001b[0m \u001b[1m0s\u001b[0m 995us/step - accuracy: 0.8874 - loss: 1.1803 - val_accuracy: 0.9328 - val_loss: 0.7311\n",
      "\u001b[1m106/106\u001b[0m \u001b[32m━━━━━━━━━━━━━━━━━━━━\u001b[0m\u001b[37m\u001b[0m \u001b[1m0s\u001b[0m 595us/step - accuracy: 0.9551 - loss: 0.4603\n",
      "Test accuracy: 0.950074315071106\n"
     ]
    }
   ],
   "source": [
    "# Split the data into training and testing sets\n",
    "X_train, X_test, y_train, y_test = train_test_split(all_features, all_labels, test_size=0.2, random_state=42)\n",
    "\n",
    "# Train the model !!! ADDED CLASS_WEIGHT, MIGHT NOT BE NEEDED\n",
    "#class_weight={0: 1., 1: 10.}\n",
    "model.fit(X_train, y_train, epochs=35, batch_size=32, validation_split=0.2)\n",
    "\n",
    "# Evaluate the model on the test set\n",
    "test_loss, test_acc = model.evaluate(X_test, y_test)\n",
    "print(f'Test accuracy: {test_acc}')"
   ]
  },
  {
   "cell_type": "code",
   "execution_count": 5,
   "id": "a8522a28-dfb7-455e-8665-d663ac9e2ddd",
   "metadata": {},
   "outputs": [
    {
     "name": "stdout",
     "output_type": "stream",
     "text": [
      "Model saved to Spoof_DetectionTest.keras!\n"
     ]
    }
   ],
   "source": [
    "model_name = \"Spoof_DetectionTest.keras\"\n",
    "model.save(model_name)\n",
    "print(f\"Model saved to {model_name}!\")"
   ]
  },
  {
   "cell_type": "code",
   "execution_count": null,
   "id": "84cccd8b-c35e-4cab-81f0-733928b393db",
   "metadata": {},
   "outputs": [],
   "source": []
  },
  {
   "cell_type": "markdown",
   "id": "7493bd3c-b1da-4219-bb79-c56dbed879e5",
   "metadata": {},
   "source": [
    "# References and Resources\n",
    "#### [Reference dump1090 README](https://github.com/SDRplay/dump1090/blob/master/README-json.md)\n",
    "#### [Data Samples from ADSB Exchange](https://www.adsbexchange.com/data-samples/)\n",
    "#### [2022 Data Sample from ADSB Exchange](https://samples.adsbexchange.com/readsb-hist/2022/05/01/)\n",
    "#### [ADSB Exchange API](https://www.adsbexchange.com/version-2-api-wip/)\n",
    "#### [Raspberry Pi & FlightAware Setup](https://elmwoodelectronics.ca/blogs/news/tracking-and-logging-flights-with-ads-b-flight-aware-and-raspberry-pi)\n",
    "#### [IEEE Research on ADS-B Signals](https://ieeexplore.ieee.org/document/9377975)"
   ]
  },
  {
   "cell_type": "code",
   "execution_count": null,
   "id": "ab5462b1-bf93-4ca1-89fc-8499aa3ab1d6",
   "metadata": {},
   "outputs": [],
   "source": []
  }
 ],
 "metadata": {
  "kernelspec": {
   "display_name": "Python 3",
   "language": "python",
   "name": "python3"
  },
  "language_info": {
   "codemirror_mode": {
    "name": "ipython",
    "version": 3
   },
   "file_extension": ".py",
   "mimetype": "text/x-python",
   "name": "python",
   "nbconvert_exporter": "python",
   "pygments_lexer": "ipython3",
   "version": "3.12.7"
  }
 },
 "nbformat": 4,
 "nbformat_minor": 5
}
