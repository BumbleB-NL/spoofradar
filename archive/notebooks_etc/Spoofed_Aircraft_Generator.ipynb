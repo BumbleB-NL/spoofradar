{
 "cells": [
  {
   "cell_type": "markdown",
   "id": "97a93c03-51e4-4428-a509-57a8bd280355",
   "metadata": {},
   "source": [
    "# Script for Generating Spoofed Aircraft JSON Data\n",
    "### Purpose: The intention of this notebook is to create a training dataset of spoofed aircraft for the CNN model to classify between spoofed and valid aircraft"
   ]
  },
  {
   "cell_type": "code",
   "execution_count": 1,
   "id": "1ff0eebd-ce88-4d6f-aa65-45fd6f05e19c",
   "metadata": {},
   "outputs": [
    {
     "name": "stdout",
     "output_type": "stream",
     "text": [
      "Spoofed aircraft:  [{'hex': '729879', 'type': 'adsc', 'flight': 'G8TE', 'r': 'H4KEGN', 't': 'ERJ145', 'alt_baro': 3962, 'gs': 66, 'track': 276, 'baro_rate': 1738.7464446589283, 'lat': -59.01298861378894, 'lon': 8.312042765819172, 'nic': 0, 'rc': 0, 'seen_pos': 22, 'mlat': [], 'tisb': [], 'messages': 250, 'seen': 859, 'rssi': -249, 'is_spoofed': True}, {'hex': '5C8413', 'type': 'adsc', 'flight': '0OYY', 'r': '10DE6X', 't': 'Zlin', 'alt_baro': 11434, 'gs': 271, 'track': 173, 'baro_rate': -1628.8798298773556, 'lat': 41.167272120023625, 'lon': -89.47352445124382, 'nic': 0, 'rc': 0, 'seen_pos': 12, 'mlat': [], 'tisb': [], 'messages': 970, 'seen': 722, 'rssi': -238, 'is_spoofed': True}, {'hex': '24D137', 'type': 'adsc', 'flight': '0KA3', 'r': '6RKB8D', 't': 'MD11', 'alt_baro': 27900, 'gs': 641, 'track': 153, 'baro_rate': -346.3916708206218, 'lat': -8.266220339274255, 'lon': 105.02352978415706, 'nic': 0, 'rc': 0, 'seen_pos': 26, 'mlat': [], 'tisb': [], 'messages': 235, 'seen': 304, 'rssi': -244, 'is_spoofed': True}, {'hex': '0F72EC', 'type': 'adsc', 'flight': '2RXQ', 'r': 'YH6GLC', 't': 'G650', 'alt_baro': 34392, 'gs': 213, 'track': 354, 'baro_rate': -597.2454483956171, 'lat': -77.48597700371542, 'lon': 125.25814193838477, 'nic': 0, 'rc': 0, 'seen_pos': 27, 'mlat': [], 'tisb': [], 'messages': 848, 'seen': 130, 'rssi': -212, 'is_spoofed': True}, {'hex': '5FB2FE', 'type': 'adsc', 'flight': 'SDH6', 'r': '54TK2J', 't': 'HA4T', 'alt_baro': 18799, 'gs': 967, 'track': 49, 'baro_rate': 1650.5053876778884, 'lat': -82.45011858919136, 'lon': -61.499460943232435, 'nic': 0, 'rc': 0, 'seen_pos': 1, 'mlat': [], 'tisb': [], 'messages': 199, 'seen': 38, 'rssi': -130, 'is_spoofed': True}, {'hex': '383E36', 'type': 'adsc', 'flight': '09MF', 'r': 'GJBIYZ', 't': 'A380', 'alt_baro': 30339, 'gs': 961, 'track': 2, 'baro_rate': 60.16950046655256, 'lat': 56.094466584510315, 'lon': 156.84232790765458, 'nic': 0, 'rc': 0, 'seen_pos': 25, 'mlat': [], 'tisb': [], 'messages': 262, 'seen': 605, 'rssi': -119, 'is_spoofed': True}, {'hex': '066205', 'type': 'adsc', 'flight': '1S5S', 'r': 'G4WURT', 't': 'Q400X', 'alt_baro': 11575, 'gs': 916, 'track': 159, 'baro_rate': 1895.6779185066262, 'lat': -49.77043655009902, 'lon': -114.12288858868327, 'nic': 0, 'rc': 0, 'seen_pos': 3, 'mlat': [], 'tisb': [], 'messages': 273, 'seen': 978, 'rssi': -220, 'is_spoofed': True}, {'hex': '4B6C0A', 'type': 'adsc', 'flight': 'GOCT', 'r': '0Q7OCD', 't': 'A350', 'alt_baro': 37511, 'gs': 425, 'track': 213, 'baro_rate': -936.1657962236691, 'lat': 10.207044907562207, 'lon': 15.599607854515568, 'nic': 0, 'rc': 0, 'seen_pos': 21, 'mlat': [], 'tisb': [], 'messages': 770, 'seen': 346, 'rssi': -93, 'is_spoofed': True}, {'hex': 'A48523', 'type': 'adsc', 'flight': '0RMQ', 'r': 'VYG4DB', 't': 'DHC8', 'alt_baro': 9227, 'gs': 43, 'track': 112, 'baro_rate': -1969.7736085306085, 'lat': -13.809196303929454, 'lon': 56.59832193752857, 'nic': 0, 'rc': 0, 'seen_pos': 28, 'mlat': [], 'tisb': [], 'messages': 493, 'seen': 798, 'rssi': -206, 'is_spoofed': True}, {'hex': '730D19', 'type': 'adsc', 'flight': '97FY', 'r': '9TZQKS', 't': 'TBM9', 'alt_baro': 15122, 'gs': 914, 'track': 133, 'baro_rate': -909.5771179677631, 'lat': 1.9937401637355663, 'lon': -168.02839897254432, 'nic': 0, 'rc': 0, 'seen_pos': 9, 'mlat': [], 'tisb': [], 'messages': 396, 'seen': 106, 'rssi': -95, 'is_spoofed': True}]\n",
      "Wrote Spoofed Data into ./samples/spoofed/aircraft_spoofed_large.json!\n"
     ]
    }
   ],
   "source": [
    "# Script for Generating Random Spoofed Aircraft\n",
    "import random\n",
    "import string\n",
    "import json\n",
    "\n",
    "def generate_registration_id():\n",
    "    # create a list of possible characters for the registration ID\n",
    "    characters = list(\"ABCDEFGHIJKLMNOPQRSTUVWXYZ0123456789\")\n",
    "    # shuffle the list of characters\n",
    "    random.shuffle(characters)\n",
    "    # take the first 3 characters as the prefix\n",
    "    prefix = \"\".join(characters[:3])\n",
    "    # take the next 3 characters as the suffix\n",
    "    suffix = \"\".join(characters[3:6])\n",
    "    # return the concatenated prefix and suffix as the registration ID\n",
    "    return prefix + suffix\n",
    "\n",
    "def generate_aircraft_type():\n",
    "    # create a list of possible aircraft types\n",
    "    aircraft_types = [\n",
    "        \"A320\", \"A321\", \"A330\", \"A340\", \"A350\", \"A380\",\n",
    "        \"B737\", \"B747\", \"B757\", \"B767\", \"B777\", \"B787\",\n",
    "        \"C172\", \"C208\", \"Cessna Citation X\",\n",
    "        \"DHC6\", \"DHC8\",\n",
    "        \"ERJ145\", \"ERJ170\", \"ERJ190\",\n",
    "        \"F22\", \"F35\", \"F16\", \"F18\",\n",
    "        \"G650\",\n",
    "        \"HA4T\",\n",
    "        \"IL76\", \"IL96\",\n",
    "        \"JS41\", \"Jetstream 41\",\n",
    "        \"MD11\", \"MD80\", \"MD90\",\n",
    "        \"P180\", \"P2006T\",\n",
    "        \"Q400\", \"Q400X\",\n",
    "        \"RJ100\", \"RJ85\",\n",
    "        \"S76\", \"S92\",\n",
    "        \"TBM9\", \"TBM9\",\n",
    "        \"UH1\", \"UH60\",\n",
    "        \"V22\", \"V35\", \"V50\",\n",
    "        \"XCub\", \"XT6\",\n",
    "        \"Yak40\", \"Yak52\",\n",
    "        \"Zlin\", \"Zlin242\"\n",
    "    ]\n",
    "    # return a random aircraft type from the list\n",
    "    return random.choice(aircraft_types)\n",
    "\n",
    "def generate_spoofed_aircraft(n):\n",
    "    # create a list of spoofed aircraft objects\n",
    "    # reference: https://www.adsbexchange.com/version-2-api-wip/\n",
    "    spoofed_aircraft = []\n",
    "    for i in range(n):\n",
    "        hex = ''.join(random.choices('0123456789ABCDEF', k=6))\n",
    "        flight = ''.join(random.choices(string.ascii_uppercase + string.digits, k=4))\n",
    "        lat = random.uniform(-90, 90)\n",
    "        type_aircraft = generate_aircraft_type()\n",
    "        aircraft_reg = generate_registration_id()\n",
    "        lon = random.uniform(-180, 180)\n",
    "        alt = random.randint(0, 40000)\n",
    "        spd = random.randint(0, 1000)\n",
    "        gs = random.randint(0, 1000)\n",
    "        seen_pos = random.randint(0, 30)\n",
    "        trk = random.randint(0, 360)\n",
    "        baro_rate = random.uniform(-2000, 2000)\n",
    "        vrt = random.randint(-1000, 1000)\n",
    "        msgs = random.randint(0, 1000)\n",
    "        seen = random.randint(0, 1000)\n",
    "        rssi = random.randint(-255,0)\n",
    "        spoofed_aircraft.append({\"hex\": hex, \"type\":\"adsc\", \"flight\": flight, \"r\": aircraft_reg, \"t\": type_aircraft, \"alt_baro\": alt, \"gs\": gs, \"track\": trk, \"baro_rate\": baro_rate, \"lat\": lat, \"lon\": lon, \"nic\":0, \"rc\":0, \"seen_pos\": seen_pos,\"mlat\":[],\"tisb\":[],\"messages\": msgs, \"seen\": seen, \"rssi\": rssi, \"is_spoofed\": True})\n",
    "\n",
    "    # return the json array\n",
    "    return spoofed_aircraft\n",
    "\n",
    "# Insert 20 Spoofed Aircraft\n",
    "with open('./samples/spoofed/aircraft_spoofed_dont_train.json', 'w') as json_file:\n",
    "    spoofed_aircraft = generate_spoofed_aircraft(10)\n",
    "    print(\"Spoofed aircraft: \", spoofed_aircraft)\n",
    "    json.dump({\"aircraft\": spoofed_aircraft}, json_file)"
   ]
  },
  {
   "cell_type": "code",
   "execution_count": null,
   "id": "048c249c-e3e6-4eb4-804a-96ce9a4903c8",
   "metadata": {},
   "outputs": [],
   "source": []
  }
 ],
 "metadata": {
  "kernelspec": {
   "display_name": "Python 3 (ipykernel)",
   "language": "python",
   "name": "python3"
  },
  "language_info": {
   "codemirror_mode": {
    "name": "ipython",
    "version": 3
   },
   "file_extension": ".py",
   "mimetype": "text/x-python",
   "name": "python",
   "nbconvert_exporter": "python",
   "pygments_lexer": "ipython3",
   "version": "3.12.7"
  }
 },
 "nbformat": 4,
 "nbformat_minor": 5
}
